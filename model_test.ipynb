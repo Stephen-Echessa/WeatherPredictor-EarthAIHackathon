{
 "cells": [
  {
   "cell_type": "code",
   "execution_count": 2,
   "metadata": {},
   "outputs": [
    {
     "name": "stdout",
     "output_type": "stream",
     "text": [
      "TensorFlow version: 2.14.0\n"
     ]
    }
   ],
   "source": [
    "import tensorflow as tf\n",
    "import numpy as np\n",
    "print(\"TensorFlow version:\", tf.__version__)"
   ]
  },
  {
   "cell_type": "code",
   "execution_count": 3,
   "metadata": {},
   "outputs": [],
   "source": [
    "from tensorflow.keras.preprocessing.image import ImageDataGenerator\n",
    "from tensorflow.keras.preprocessing import image\n",
    "from tensorflow.keras.models import Sequential\n",
    "from tensorflow.keras.layers import Conv2D, MaxPooling2D, Flatten, Dense"
   ]
  },
  {
   "cell_type": "code",
   "execution_count": 4,
   "metadata": {},
   "outputs": [
    {
     "name": "stdout",
     "output_type": "stream",
     "text": [
      "Dataset creation complete.\n"
     ]
    }
   ],
   "source": [
    "import os\n",
    "import shutil\n",
    "\n",
    "# Define the paths to the Droughts and Floods folders\n",
    "droughts_folder = \"/home/chescore/Pictures/Train/Droughts\"\n",
    "floods_folder = \"/home/chescore/Pictures/Train/Floods\"\n",
    "\n",
    "# Define the paths to the output directories for dry season and rainy season\n",
    "dry_season_output = \"/home/chescore/Documents/Hackathon/Train/Dry\"\n",
    "rainy_season_output = \"/home/chescore/Documents/Hackathon/Train/Rainy\"\n",
    "\n",
    "# Create output directories if they don't exist\n",
    "os.makedirs(dry_season_output, exist_ok=True)\n",
    "os.makedirs(rainy_season_output, exist_ok=True)\n",
    "\n",
    "# Function to classify images and move them to appropriate folders\n",
    "def classify_images(folder_path, output_path, label):\n",
    "    for filename in os.listdir(folder_path):\n",
    "        if filename.endswith(\".jpg\") or filename.endswith(\".png\"):  # Adjust file extensions as needed\n",
    "            source_file = os.path.join(folder_path, filename)\n",
    "            destination_file = os.path.join(output_path, filename)\n",
    "            shutil.copyfile(source_file, destination_file)\n",
    "            # If you want to rename files with a label, you can do it here\n",
    "            # shutil.move(source_file, os.path.join(output_path, f\"{label}_{filename}\"))\n",
    "\n",
    "# Classify images in Droughts folder as 'dry season'\n",
    "classify_images(droughts_folder, dry_season_output, 'dry_season')\n",
    "\n",
    "# Classify images in Floods folder as 'rainy season'\n",
    "classify_images(floods_folder, rainy_season_output, 'rainy_season')\n",
    "\n",
    "print(\"Dataset creation complete.\")\n"
   ]
  },
  {
   "cell_type": "code",
   "execution_count": 5,
   "metadata": {},
   "outputs": [
    {
     "name": "stdout",
     "output_type": "stream",
     "text": [
      "Dataset creation complete.\n"
     ]
    }
   ],
   "source": [
    "droughts_folder = \"/home/chescore/Pictures/Validation/Droughts\"\n",
    "floods_folder = \"/home/chescore/Pictures/Validation/Floods\"\n",
    "\n",
    "dry_season_output = \"/home/chescore/Documents/Hackathon/Validation/Dry\"\n",
    "rainy_season_output = \"/home/chescore/Documents/Hackathon/Validation/Rainy\"\n",
    "\n",
    "os.makedirs(dry_season_output, exist_ok=True)\n",
    "os.makedirs(rainy_season_output, exist_ok=True)\n",
    "\n",
    "def classify_images(folder_path, output_path, label):\n",
    "    for filename in os.listdir(folder_path):\n",
    "        if filename.endswith(\".jpg\") or filename.endswith(\".png\"):  # Adjust file extensions as needed\n",
    "            source_file = os.path.join(folder_path, filename)\n",
    "            destination_file = os.path.join(output_path, filename)\n",
    "            shutil.copyfile(source_file, destination_file)\n",
    "\n",
    "classify_images(droughts_folder, dry_season_output, 'dry_season')\n",
    "\n",
    "classify_images(floods_folder, rainy_season_output, 'rainy_season')\n",
    "\n",
    "print(\"Dataset creation complete.\")"
   ]
  },
  {
   "cell_type": "code",
   "execution_count": 6,
   "metadata": {},
   "outputs": [
    {
     "name": "stdout",
     "output_type": "stream",
     "text": [
      "Found 48 images belonging to 2 classes.\n"
     ]
    },
    {
     "name": "stdout",
     "output_type": "stream",
     "text": [
      "Epoch 1/5\n",
      "9/9 [==============================] - 9s 630ms/step - loss: 0.7421 - accuracy: 0.7209\n",
      "Epoch 2/5\n",
      "9/9 [==============================] - 4s 486ms/step - loss: 0.3173 - accuracy: 0.8372\n",
      "Epoch 3/5\n",
      "9/9 [==============================] - 4s 476ms/step - loss: 0.1187 - accuracy: 0.9535\n",
      "Epoch 4/5\n",
      "9/9 [==============================] - 4s 476ms/step - loss: 0.1070 - accuracy: 0.9535\n",
      "Epoch 5/5\n",
      "9/9 [==============================] - 4s 481ms/step - loss: 0.0687 - accuracy: 0.9767\n"
     ]
    },
    {
     "name": "stderr",
     "output_type": "stream",
     "text": [
      "/home/chescore/anaconda3/lib/python3.11/site-packages/keras/src/engine/training.py:3079: UserWarning: You are saving your model as an HDF5 file via `model.save()`. This file format is considered legacy. We recommend using instead the native Keras format, e.g. `model.save('my_model.keras')`.\n",
      "  saving_api.save_model(\n"
     ]
    }
   ],
   "source": [
    "IMAGE_WIDTH, IMAGE_HEIGHT = 150, 150\n",
    "BATCH_SIZE = 5\n",
    "\n",
    "train_datagen = ImageDataGenerator(rescale=1./255)\n",
    "train_generator = train_datagen.flow_from_directory(\n",
    "    '/home/chescore/Documents/Hackathon/Train/',  \n",
    "    target_size=(IMAGE_WIDTH, IMAGE_HEIGHT),\n",
    "    batch_size=BATCH_SIZE,\n",
    "    class_mode='binary') \n",
    "\n",
    "# Define the CNN model\n",
    "model = Sequential([\n",
    "    Conv2D(32, (3, 3), activation='relu', input_shape=(IMAGE_WIDTH, IMAGE_HEIGHT, 3)),\n",
    "    MaxPooling2D((2, 2)),\n",
    "    Conv2D(64, (3, 3), activation='relu'),\n",
    "    MaxPooling2D((2, 2)),\n",
    "    Conv2D(128, (3, 3), activation='relu'),\n",
    "    MaxPooling2D((2, 2)),\n",
    "    Flatten(),\n",
    "    Dense(128, activation='relu'),\n",
    "    Dense(1, activation='sigmoid')  \n",
    "])\n",
    "\n",
    "# Compile the model\n",
    "model.compile(optimizer='adam', loss='binary_crossentropy', metrics=['accuracy'])\n",
    "\n",
    "# Train the model\n",
    "model.fit(train_generator, steps_per_epoch=train_generator.samples // BATCH_SIZE, epochs=5)"
   ]
  },
  {
   "cell_type": "code",
   "execution_count": 7,
   "metadata": {},
   "outputs": [
    {
     "name": "stdout",
     "output_type": "stream",
     "text": [
      "Found 5 images belonging to 2 classes.\n"
     ]
    },
    {
     "name": "stdout",
     "output_type": "stream",
     "text": [
      "5/5 [==============================] - 1s 55ms/step - loss: 0.0193 - accuracy: 1.0000\n",
      "Evaluation Loss: 0.0192601028829813\n",
      "Evaluation Accuracy: 1.0\n"
     ]
    }
   ],
   "source": [
    "validation_datagen = ImageDataGenerator(rescale=1./255)\n",
    "validation_generator = validation_datagen.flow_from_directory(\n",
    "    '/home/chescore/Pictures/Validation',  # Path to your validation folder (contains 'dry_season' and 'rainy_season' subfolders)\n",
    "    target_size=(IMAGE_WIDTH, IMAGE_HEIGHT),\n",
    "    batch_size=1,\n",
    "    class_mode='binary',  # Since we have two classes, it will be binary classification\n",
    "    shuffle=False)  # Set shuffle to False for evaluation\n",
    "\n",
    "# Evaluate the model\n",
    "evaluation = model.evaluate(validation_generator)\n",
    "\n",
    "print(\"Evaluation Loss:\", evaluation[0])\n",
    "print(\"Evaluation Accuracy:\", evaluation[1])"
   ]
  },
  {
   "cell_type": "code",
   "execution_count": 10,
   "metadata": {},
   "outputs": [
    {
     "name": "stdout",
     "output_type": "stream",
     "text": [
      "1/1 [==============================] - 0s 137ms/step\n",
      "Prediction: Rainy Season\n",
      "Rainy season\n"
     ]
    }
   ],
   "source": [
    "# Test the model on new data which is an image showing oncoming rainy seasons.\n",
    "image_path = \"/home/chescore/Documents/Hackathon/Test/Test 1.jpg\"\n",
    "\n",
    "# Preprocess the image\n",
    "img = image.load_img(image_path, target_size=(150, 150))\n",
    "img_array = image.img_to_array(img)\n",
    "img_array = np.expand_dims(img_array, axis=0)\n",
    "img_array /= 255.\n",
    "\n",
    "prediction = model.predict(img_array)\n",
    "\n",
    "if prediction[0] < 0.5:\n",
    "    print(\"Prediction: Dry Season\")\n",
    "    pred = 'Dry season'\n",
    "else:\n",
    "    print(\"Prediction: Rainy Season\")\n",
    "    pred = 'Rainy season'\n",
    "    \n",
    "print(pred)"
   ]
  },
  {
   "cell_type": "code",
   "execution_count": 11,
   "metadata": {},
   "outputs": [],
   "source": [
    "from openai import OpenAI\n",
    "client = OpenAI()"
   ]
  },
  {
   "cell_type": "code",
   "execution_count": 12,
   "metadata": {},
   "outputs": [],
   "source": [
    "completion = client.chat.completions.create(\n",
    "  model=\"gpt-3.5-turbo\",\n",
    "  messages=[\n",
    "    {\"role\": \"system\", \"content\": \"You are a weather forecast assistant that can provide recommendations based on certain weather conditions such as rainy or dry seasons.\"},\n",
    "    {\"role\": \"user\", \"content\": f\"Given that it is a {pred}, write suggestions in which pastoralists can better prepare for such conditions.\"}\n",
    "  ]\n",
    ")\n",
    "\n",
    "response = completion.choices[0].message.content"
   ]
  },
  {
   "cell_type": "code",
   "execution_count": 13,
   "metadata": {},
   "outputs": [
    {
     "name": "stdout",
     "output_type": "stream",
     "text": [
      "During the rainy season, pastoralists can take several steps to better prepare for the wet weather and ensure the well-being of their livestock. Here are some recommendations:\n",
      "\n",
      "1. Shelter: Ensure that there are adequate shelters for the animals to seek refuge from the rain. This could include constructing simple structures or using natural resources like trees for cover.\n",
      "\n",
      "2. Vaccinations and healthcare: Prioritize healthcare for the animals by ensuring they are up-to-date on vaccinations and treatments to prevent diseases that may become more prevalent during the rainy season.\n",
      "\n",
      "3. Feed and water management: Plan ahead for the availability of feed and clean drinking water for the animals during the rainy season, as the wet conditions may affect grazing areas and water sources.\n",
      "\n",
      "4. Grazing management: Monitor the grazing areas regularly to prevent overgrazing and soil erosion, which can be exacerbated during the rainy season.\n",
      "\n",
      "5. Emergency preparedness: Have a contingency plan in place for emergencies such as flooding or landslides, and ensure that communication channels are established in case of any unforeseen events.\n",
      "\n",
      "6. Proper drainage: Ensure proper drainage systems are in place to prevent waterlogging in animal shelters and grazing areas, which can lead to health issues for the animals.\n",
      "\n",
      "By implementing these recommendations, pastoralists can better prepare for the rainy season and mitigate potential risks to their livestock.\n"
     ]
    }
   ],
   "source": [
    "print(response)"
   ]
  },
  {
   "cell_type": "code",
   "execution_count": 14,
   "metadata": {},
   "outputs": [
    {
     "name": "stdout",
     "output_type": "stream",
     "text": [
      "During the rainy season, pastoralists can take several steps to better prepare for the wet weather and ensure the well-being of their livestock. Here are some recommendations:\n",
      "1. Shelter: Ensure that there are adequate shelters for the animals to seek refuge from the rain. This could include constructing simple structures or using natural resources like trees for cover.\n"
     ]
    }
   ],
   "source": [
    "first_three_points = response.strip().split(\"\\n\\n\")[0:2]\n",
    "\n",
    "# Printing the first three points\n",
    "for point in first_three_points:\n",
    "    res = point.strip()\n",
    "    print(res)"
   ]
  },
  {
   "cell_type": "code",
   "execution_count": 46,
   "metadata": {},
   "outputs": [
    {
     "name": "stdout",
     "output_type": "stream",
     "text": [
      "SM71fb65b4e282922f529c2f9b75528729\n"
     ]
    }
   ],
   "source": [
    "from twilio.rest import Client\n",
    "account_sid = os.environ.get('TWILIO_ACCOUNT_SID')\n",
    "auth_token = os.environ.get('TWILIO_AUTH_TOKEN')\n",
    "client = Client(account_sid, auth_token)\n",
    "\n",
    "message = client.messages.create(\n",
    "  from_='+18456849823',\n",
    "  to='+254710499767',\n",
    "  body=res\n",
    ")\n",
    "\n",
    "print(message.sid)"
   ]
  }
 ],
 "metadata": {
  "kernelspec": {
   "display_name": "base",
   "language": "python",
   "name": "python3"
  },
  "language_info": {
   "codemirror_mode": {
    "name": "ipython",
    "version": 3
   },
   "file_extension": ".py",
   "mimetype": "text/x-python",
   "name": "python",
   "nbconvert_exporter": "python",
   "pygments_lexer": "ipython3",
   "version": "3.11.5"
  }
 },
 "nbformat": 4,
 "nbformat_minor": 2
}
